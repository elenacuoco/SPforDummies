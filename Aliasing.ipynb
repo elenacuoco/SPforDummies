{
  "nbformat": 4,
  "nbformat_minor": 0,
  "metadata": {
    "colab": {
      "name": "Aliasing.ipynb",
      "provenance": [],
      "private_outputs": true,
      "collapsed_sections": [],
      "authorship_tag": "ABX9TyPLJq5eP5SqwWlh7o5H1XWP",
      "include_colab_link": true
    },
    "kernelspec": {
      "name": "python3",
      "display_name": "Python 3"
    }
  },
  "cells": [
    {
      "cell_type": "markdown",
      "metadata": {
        "id": "view-in-github",
        "colab_type": "text"
      },
      "source": [
        "<a href=\"https://colab.research.google.com/github/elenacuoco/SPforDummies/blob/master/Aliasing.ipynb\" target=\"_parent\"><img src=\"https://colab.research.google.com/assets/colab-badge.svg\" alt=\"Open In Colab\"/></a>"
      ]
    },
    {
      "cell_type": "markdown",
      "metadata": {
        "id": "3HeWhAppXNQA",
        "colab_type": "text"
      },
      "source": [
        " ![Wavy](https://www.elenacuoco.com/2016/08/03/curious-about-what-signal-processing-is/curious/)\n",
        "\n",
        "\n",
        "Let's restart the Wavy adventures in Signal Processing, Data Analysis and Machine Learning...\n",
        "\n",
        "\n",
        "# Aliasing problem\n",
        "\n",
        "\n",
        "*   Nyquist-Shannon sampling theorem:\n",
        "    Refer to https://www.elenacuoco.com/2016/08/23/sampling-theorem/ for an introduction to Sampling Theorem\n",
        "\n",
        "\n"
      ]
    },
    {
      "cell_type": "code",
      "metadata": {
        "id": "MtsSfkl5bOJ9",
        "colab_type": "code",
        "colab": {}
      },
      "source": [
        ""
      ],
      "execution_count": 0,
      "outputs": []
    }
  ]
}